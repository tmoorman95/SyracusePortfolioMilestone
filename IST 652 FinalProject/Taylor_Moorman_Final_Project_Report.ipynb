{
 "cells": [
  {
   "cell_type": "code",
   "execution_count": 1,
   "metadata": {},
   "outputs": [
    {
     "data": {
      "text/plain": [
       "'\\n\\n@author: tmoorman\\n\\nIST 652 Final Projest\\n'"
      ]
     },
     "execution_count": 1,
     "metadata": {},
     "output_type": "execute_result"
    }
   ],
   "source": [
    "# -*- coding: utf-8 -*-\n",
    "\"\"\"\n",
    "\n",
    "@author: tmoorman\n",
    "\n",
    "IST 652 Final Projest\n",
    "\"\"\""
   ]
  },
  {
   "cell_type": "code",
   "execution_count": 2,
   "metadata": {},
   "outputs": [],
   "source": [
    "#import relevant packages and set the working directory\n",
    "import os\n",
    "os.chdir(\"C:/Users/tmoorman/OneDrive - BeyondTrust Software Inc/Documents/Not Work Related/school/Spring 2019/IST 652/FinalProject\")\n",
    "import numpy as np\n",
    "import pandas as p\n",
    "import sklearn"
   ]
  },
  {
   "cell_type": "code",
   "execution_count": 3,
   "metadata": {},
   "outputs": [],
   "source": [
    "#read in data sets\n",
    "fights = p.read_excel('fights.xlsx')\n",
    "fighters = p.read_excel('fighters.xlsx')\n",
    "fightmets = p.read_excel('fightmetric.xlsx')"
   ]
  },
  {
   "cell_type": "code",
   "execution_count": 4,
   "metadata": {},
   "outputs": [],
   "source": [
    "#clean data sets to relevant dates and choose relevant columns for analysis\n",
    "fights = fights[fights.event_date >= '2003-1-1']\n",
    "fightscol = ['f1fid', 'f2fid', 'f1result', 'f2result', 'ref', 'event_date']\n",
    "\n",
    "fights = fights[fightscol]\n",
    "\n",
    "fighterscol = ['fid', 'birth_date', 'height', 'weight', 'association', 'class', 'country' ]\n",
    "\n",
    "fighters = fighters[fighterscol]\n",
    "\n",
    "fightmetscol = ['fid', 'Wins', 'Losses', 'Reach', 'Stance', 'SLpM', 'Str. Acc', 'SApM', 'Str. Def', 'TD Avg', 'TD Acc', 'TD Def', 'Sub. Avg']\n",
    "\n",
    "fightmets = fightmets[fightmetscol]\n",
    "\n",
    "fightmets = fightmets.dropna(subset=['fid'])\n"
   ]
  },
  {
   "cell_type": "code",
   "execution_count": 5,
   "metadata": {},
   "outputs": [],
   "source": [
    "#Merge fighter datasets together\n",
    "fNEW = fighters.merge(fightmets, on=['fid'])"
   ]
  },
  {
   "cell_type": "code",
   "execution_count": 6,
   "metadata": {},
   "outputs": [],
   "source": [
    "#seperate wins and losses\n",
    "fightlosscol = ['f2fid', 'f2result','ref', 'event_date']\n",
    "fightwincol = ['f1fid', 'f1result','ref', 'event_date']\n",
    "\n",
    "win = fights[fightwincol]\n",
    "loss = fights[fightlosscol]"
   ]
  },
  {
   "cell_type": "code",
   "execution_count": 7,
   "metadata": {},
   "outputs": [],
   "source": [
    "#rename columns in win and loss datasets\n",
    "win = win.rename(index=str, columns = {'f1fid' : 'fid', 'f1result' : 'result'})\n",
    "loss = loss.rename(index=str, columns = {'f2fid' : 'fid', 'f2result' : 'result'})"
   ]
  },
  {
   "cell_type": "code",
   "execution_count": 8,
   "metadata": {},
   "outputs": [],
   "source": [
    "#append win and loss datasets to create new fight dataframe with wins and losses to ultimately create target variable\n",
    "totalfights = win.append(loss, ignore_index = True)\n",
    "\n",
    "totalfights['y'] = np.where(totalfights['result']== 'win', 1, 0)"
   ]
  },
  {
   "cell_type": "code",
   "execution_count": 9,
   "metadata": {},
   "outputs": [],
   "source": [
    "#merge all fight data with fighter data to get data for every fighter in every fight\n",
    "finalset = totalfights.merge(fNEW, on=['fid'])\n",
    "\n",
    "#getting rid of columns that are unwanted, creating binaries for a factored feature\n",
    "finalset = finalset.drop('fid', axis=1)\n",
    "finalset = finalset.drop('result', axis=1)\n",
    "finalset = finalset.drop('association', axis=1)\n",
    "finalset = finalset.drop('class', axis=1)\n",
    "finalset['stancebin'] = np.where(finalset['Stance']== 'Orthodox', 1, 0)\n",
    "finalset = finalset.drop('Stance', axis=1)"
   ]
  },
  {
   "cell_type": "code",
   "execution_count": 10,
   "metadata": {},
   "outputs": [],
   "source": [
    "#Creating 'age' variable for the age of fighter at time of fight\n",
    "finalset['age'] = finalset['event_date'] - finalset['birth_date']\n",
    "finalset['age'] = finalset['age'].dt.days\n",
    "finalset = finalset.drop('event_date', axis=1)\n",
    "finalset = finalset.drop('birth_date', axis=1)\n",
    "\n",
    "#dropping any remaining rows with NANs\n",
    "finalset = finalset.dropna()"
   ]
  },
  {
   "cell_type": "code",
   "execution_count": 11,
   "metadata": {},
   "outputs": [
    {
     "name": "stdout",
     "output_type": "stream",
     "text": [
      "[52 52 52 ... 52 52  7]\n"
     ]
    }
   ],
   "source": [
    "##Encoding country and ref fields\n",
    "from sklearn.preprocessing import LabelEncoder\n",
    "from sklearn.preprocessing import OneHotEncoder\n",
    "label_encoder = LabelEncoder()\n",
    "country_encoded = label_encoder.fit_transform(finalset['country'])\n",
    "ref_encoded = label_encoder.fit_transform(finalset['ref'])\n",
    "print(country_encoded)\n",
    "\n",
    "finalset['countrycode'] = country_encoded\n",
    "finalset['refcode'] = ref_encoded\n",
    "\n",
    "finalset = finalset.drop('country', axis=1)\n",
    "finalset = finalset.drop('ref', axis=1)"
   ]
  },
  {
   "cell_type": "code",
   "execution_count": 12,
   "metadata": {},
   "outputs": [
    {
     "data": {
      "text/plain": [
       "y                int32\n",
       "height         float64\n",
       "weight         float64\n",
       "Wins             int64\n",
       "Losses           int64\n",
       "Reach          float64\n",
       "SLpM           float64\n",
       "Str. Acc       float64\n",
       "SApM           float64\n",
       "Str. Def       float64\n",
       "TD Avg         float64\n",
       "TD Acc         float64\n",
       "TD Def         float64\n",
       "Sub. Avg       float64\n",
       "stancebin        int32\n",
       "age            float64\n",
       "countrycode      int64\n",
       "refcode          int64\n",
       "dtype: object"
      ]
     },
     "execution_count": 12,
     "metadata": {},
     "output_type": "execute_result"
    }
   ],
   "source": [
    "#making certain datatypes were correct\n",
    "finalset.dtypes"
   ]
  },
  {
   "cell_type": "code",
   "execution_count": 40,
   "metadata": {},
   "outputs": [
    {
     "name": "stdout",
     "output_type": "stream",
     "text": [
      "Confusion Matrix:  [[42 30]\n",
      " [32 58]]\n",
      " \n",
      "Metrics:               precision    recall  f1-score   support\n",
      "\n",
      "          0       0.57      0.58      0.58        72\n",
      "          1       0.66      0.64      0.65        90\n",
      "\n",
      "avg / total       0.62      0.62      0.62       162\n",
      "\n",
      "Model Accuracy:  0.6172839506172839\n"
     ]
    }
   ],
   "source": [
    "#Creating test and train sets, importing relevant packages, and training and testing model\n",
    "x = finalset.drop('y', axis=1)\n",
    "y = finalset['y']\n",
    "from sklearn.model_selection import train_test_split\n",
    "\n",
    "X_train, X_test, y_train, y_test = train_test_split(x, y, test_size=0.03, random_state=0)  \n",
    "\n",
    "from sklearn.metrics import classification_report, confusion_matrix, accuracy_score\n",
    "from sklearn.ensemble import RandomForestClassifier\n",
    "regressor = RandomForestClassifier(n_estimators=3000, random_state=0)\n",
    "regressor.fit(X_train, y_train)  \n",
    "y_pred = regressor.predict(X_test) \n",
    "\n",
    "print(\"Confusion Matrix: \", confusion_matrix(y_test,y_pred))\n",
    "print(\" \")\n",
    "print(\"Metrics: \", classification_report(y_test,y_pred))  \n",
    "print(\"Model Accuracy: \", accuracy_score(y_test, y_pred))"
   ]
  },
  {
   "cell_type": "code",
   "execution_count": 14,
   "metadata": {},
   "outputs": [],
   "source": [
    "#creating a list of feature importance measures\n",
    "feature_imp = p.Series(regressor.feature_importances_,index=X_train.columns).sort_values(ascending=False)\n"
   ]
  },
  {
   "cell_type": "code",
   "execution_count": 16,
   "metadata": {},
   "outputs": [
    {
     "data": {
      "text/plain": [
       "Text(0.5,1,'Important Features')"
      ]
     },
     "execution_count": 16,
     "metadata": {},
     "output_type": "execute_result"
    },
    {
     "data": {
      "image/png": "[encoded data removed]",
      "text/plain": [
       "<Figure size 432x288 with 1 Axes>"
      ]
     },
     "metadata": {},
     "output_type": "display_data"
    }
   ],
   "source": [
    "import matplotlib.pyplot as plt\n",
    "import seaborn as sns\n",
    "\n",
    "# Creating a bar plot of the classifier feature importances\n",
    "sns.barplot(x=feature_imp, y=feature_imp.index)\n",
    "plt.xlabel('Feature Importance Score')\n",
    "plt.ylabel('Features')\n",
    "plt.title(\"Important Features\")\n"
   ]
  },
  {
   "cell_type": "code",
   "execution_count": 17,
   "metadata": {},
   "outputs": [
    {
     "data": {
      "image/png": "[encoded data removed]",
      "text/plain": [
       "<Figure size 432x288 with 2 Axes>"
      ]
     },
     "metadata": {},
     "output_type": "display_data"
    }
   ],
   "source": [
    "#Making correlation matrix of features\n",
    "corr = finalset.corr()\n",
    "ax = sns.heatmap(\n",
    "    corr, \n",
    "    vmin=-1, vmax=1, center=0,\n",
    "    cmap=sns.diverging_palette(20, 220, n=200),\n",
    "    square=True\n",
    ")\n",
    "ax.set_xticklabels(\n",
    "    ax.get_xticklabels(),\n",
    "    rotation=45,\n",
    "    horizontalalignment='right'\n",
    ");"
   ]
  },
  {
   "cell_type": "code",
   "execution_count": 19,
   "metadata": {},
   "outputs": [
    {
     "data": {
      "text/plain": [
       "Text(0.5,1,'Win/Loss by Age')"
      ]
     },
     "execution_count": 19,
     "metadata": {},
     "output_type": "execute_result"
    },
    {
     "data": {
      "image/png": "[encoded data removed]",
      "text/plain": [
       "<Figure size 432x288 with 1 Axes>"
      ]
     },
     "metadata": {},
     "output_type": "display_data"
    }
   ],
   "source": [
    "#Creating plots of most important features by wins and losses\n",
    "#Ages by winning\n",
    "sns.barplot(x=round((finalset['age']/365)), y=finalset['y'])\n",
    "plt.xlabel('Age at time of Fight')\n",
    "plt.ylabel('Win/Loss')\n",
    "plt.title(\"Win/Loss by Age\")"
   ]
  },
  {
   "cell_type": "code",
   "execution_count": 21,
   "metadata": {},
   "outputs": [
    {
     "data": {
      "text/plain": [
       "Text(0.5,1,'Win/Loss by Stance')"
      ]
     },
     "execution_count": 21,
     "metadata": {},
     "output_type": "execute_result"
    },
    {
     "data": {
      "image/png": "[encoded data removed]",
      "text/plain": [
       "<Figure size 432x288 with 1 Axes>"
      ]
     },
     "metadata": {},
     "output_type": "display_data"
    }
   ],
   "source": [
    "#Stance\n",
    "sns.barplot(x=finalset['stancebin'], y=finalset['y'])\n",
    "plt.xlabel('Stance 1= right handed, 0 = lefthanded')\n",
    "plt.ylabel('Win/Loss')\n",
    "plt.title(\"Win/Loss by Stance\")"
   ]
  },
  {
   "cell_type": "code",
   "execution_count": 22,
   "metadata": {},
   "outputs": [
    {
     "data": {
      "text/plain": [
       "Text(0.5,1,'Win/Loss by Record')"
      ]
     },
     "execution_count": 22,
     "metadata": {},
     "output_type": "execute_result"
    },
    {
     "data": {
      "image/png": "[encoded data removed]",
      "text/plain": [
       "<Figure size 432x288 with 1 Axes>"
      ]
     },
     "metadata": {},
     "output_type": "display_data"
    }
   ],
   "source": [
    "#Wins\n",
    "sns.barplot(x=finalset['Wins'], y=finalset['y'])\n",
    "plt.xlabel('Wins on Record')\n",
    "plt.ylabel('Win/Loss')\n",
    "plt.title(\"Win/Loss by Record\")"
   ]
  },
  {
   "cell_type": "code",
   "execution_count": 23,
   "metadata": {},
   "outputs": [
    {
     "data": {
      "text/plain": [
       "Text(0.5,1,'Age Histogram')"
      ]
     },
     "execution_count": 23,
     "metadata": {},
     "output_type": "execute_result"
    },
    {
     "data": {
      "image/png": "[encoded data removed]",
      "text/plain": [
       "<Figure size 432x288 with 1 Axes>"
      ]
     },
     "metadata": {},
     "output_type": "display_data"
    }
   ],
   "source": [
    "#Histogram of Ages\n",
    "n, bins, patches = plt.hist(x=(finalset['age']/365), bins='auto', color='#0504aa',\n",
    "                            alpha=0.7, rwidth=0.85)\n",
    "plt.xlabel('Ages')\n",
    "plt.ylabel('Frequency')\n",
    "plt.title('Age Histogram')"
   ]
  },
  {
   "cell_type": "code",
   "execution_count": 30,
   "metadata": {},
   "outputs": [
    {
     "name": "stderr",
     "output_type": "stream",
     "text": [
      "C:\\Program Files (x86)\\Microsoft Visual Studio\\Shared\\Anaconda3_64\\lib\\site-packages\\ipykernel_launcher.py:4: SettingWithCopyWarning: \n",
      "A value is trying to be set on a copy of a slice from a DataFrame.\n",
      "Try using .loc[row_indexer,col_indexer] = value instead\n",
      "\n",
      "See the caveats in the documentation: http://pandas.pydata.org/pandas-docs/stable/indexing.html#indexing-view-versus-copy\n",
      "  after removing the cwd from sys.path.\n",
      "C:\\Program Files (x86)\\Microsoft Visual Studio\\Shared\\Anaconda3_64\\lib\\site-packages\\ipykernel_launcher.py:5: SettingWithCopyWarning: \n",
      "A value is trying to be set on a copy of a slice from a DataFrame.\n",
      "Try using .loc[row_indexer,col_indexer] = value instead\n",
      "\n",
      "See the caveats in the documentation: http://pandas.pydata.org/pandas-docs/stable/indexing.html#indexing-view-versus-copy\n",
      "  \"\"\"\n",
      "C:\\Program Files (x86)\\Microsoft Visual Studio\\Shared\\Anaconda3_64\\lib\\site-packages\\ipykernel_launcher.py:6: SettingWithCopyWarning: \n",
      "A value is trying to be set on a copy of a slice from a DataFrame.\n",
      "Try using .loc[row_indexer,col_indexer] = value instead\n",
      "\n",
      "See the caveats in the documentation: http://pandas.pydata.org/pandas-docs/stable/indexing.html#indexing-view-versus-copy\n",
      "  \n",
      "C:\\Program Files (x86)\\Microsoft Visual Studio\\Shared\\Anaconda3_64\\lib\\site-packages\\ipykernel_launcher.py:7: SettingWithCopyWarning: \n",
      "A value is trying to be set on a copy of a slice from a DataFrame.\n",
      "Try using .loc[row_indexer,col_indexer] = value instead\n",
      "\n",
      "See the caveats in the documentation: http://pandas.pydata.org/pandas-docs/stable/indexing.html#indexing-view-versus-copy\n",
      "  import sys\n",
      "C:\\Program Files (x86)\\Microsoft Visual Studio\\Shared\\Anaconda3_64\\lib\\site-packages\\ipykernel_launcher.py:8: SettingWithCopyWarning: \n",
      "A value is trying to be set on a copy of a slice from a DataFrame.\n",
      "Try using .loc[row_indexer,col_indexer] = value instead\n",
      "\n",
      "See the caveats in the documentation: http://pandas.pydata.org/pandas-docs/stable/indexing.html#indexing-view-versus-copy\n",
      "  \n",
      "C:\\Program Files (x86)\\Microsoft Visual Studio\\Shared\\Anaconda3_64\\lib\\site-packages\\ipykernel_launcher.py:9: SettingWithCopyWarning: \n",
      "A value is trying to be set on a copy of a slice from a DataFrame.\n",
      "Try using .loc[row_indexer,col_indexer] = value instead\n",
      "\n",
      "See the caveats in the documentation: http://pandas.pydata.org/pandas-docs/stable/indexing.html#indexing-view-versus-copy\n",
      "  if __name__ == '__main__':\n"
     ]
    }
   ],
   "source": [
    "#Creating Aggregate Tables\n",
    "\n",
    "bindf = finalset[['y']]\n",
    "bindf['binheight'] = p.cut(finalset['height'], 5)\n",
    "bindf['binweight'] = p.cut(finalset['weight'], 5)\n",
    "bindf['binwins'] = p.cut(finalset['Wins'], 5)\n",
    "bindf['binreach'] = p.cut(finalset['Reach'], 5)\n",
    "bindf['binstance'] = finalset['stancebin']\n",
    "bindf['binage'] = p.cut(round(finalset['age']/365), 5)"
   ]
  },
  {
   "cell_type": "code",
   "execution_count": 37,
   "metadata": {},
   "outputs": [],
   "source": [
    "#Percent of fights with each metric binned"
   ]
  },
  {
   "cell_type": "code",
   "execution_count": 31,
   "metadata": {},
   "outputs": [
    {
     "data": {
      "text/html": [
       "<div>\n",
       "<style scoped>\n",
       "    .dataframe tbody tr th:only-of-type {\n",
       "        vertical-align: middle;\n",
       "    }\n",
       "\n",
       "    .dataframe tbody tr th {\n",
       "        vertical-align: top;\n",
       "    }\n",
       "\n",
       "    .dataframe thead th {\n",
       "        text-align: right;\n",
       "    }\n",
       "</style>\n",
       "<table border=\"1\" class=\"dataframe\">\n",
       "  <thead>\n",
       "    <tr style=\"text-align: right;\">\n",
       "      <th></th>\n",
       "      <th>y</th>\n",
       "    </tr>\n",
       "    <tr>\n",
       "      <th>binage</th>\n",
       "      <th></th>\n",
       "    </tr>\n",
       "  </thead>\n",
       "  <tbody>\n",
       "    <tr>\n",
       "      <th>(19.972, 25.6]</th>\n",
       "      <td>0.148395</td>\n",
       "    </tr>\n",
       "    <tr>\n",
       "      <th>(25.6, 31.2]</th>\n",
       "      <td>0.545724</td>\n",
       "    </tr>\n",
       "    <tr>\n",
       "      <th>(31.2, 36.8]</th>\n",
       "      <td>0.262474</td>\n",
       "    </tr>\n",
       "    <tr>\n",
       "      <th>(36.8, 42.4]</th>\n",
       "      <td>0.039139</td>\n",
       "    </tr>\n",
       "    <tr>\n",
       "      <th>(42.4, 48.0]</th>\n",
       "      <td>0.004266</td>\n",
       "    </tr>\n",
       "  </tbody>\n",
       "</table>\n",
       "</div>"
      ],
      "text/plain": [
       "                       y\n",
       "binage                  \n",
       "(19.972, 25.6]  0.148395\n",
       "(25.6, 31.2]    0.545724\n",
       "(31.2, 36.8]    0.262474\n",
       "(36.8, 42.4]    0.039139\n",
       "(42.4, 48.0]    0.004266"
      ]
     },
     "execution_count": 31,
     "metadata": {},
     "output_type": "execute_result"
    }
   ],
   "source": [
    "bindf.groupby(['binage'])[['y']].count()/5391"
   ]
  },
  {
   "cell_type": "code",
   "execution_count": 32,
   "metadata": {},
   "outputs": [
    {
     "data": {
      "text/html": [
       "<div>\n",
       "<style scoped>\n",
       "    .dataframe tbody tr th:only-of-type {\n",
       "        vertical-align: middle;\n",
       "    }\n",
       "\n",
       "    .dataframe tbody tr th {\n",
       "        vertical-align: top;\n",
       "    }\n",
       "\n",
       "    .dataframe thead th {\n",
       "        text-align: right;\n",
       "    }\n",
       "</style>\n",
       "<table border=\"1\" class=\"dataframe\">\n",
       "  <thead>\n",
       "    <tr style=\"text-align: right;\">\n",
       "      <th></th>\n",
       "      <th>y</th>\n",
       "    </tr>\n",
       "    <tr>\n",
       "      <th>binweight</th>\n",
       "      <th></th>\n",
       "    </tr>\n",
       "  </thead>\n",
       "  <tbody>\n",
       "    <tr>\n",
       "      <th>(104.793, 146.4]</th>\n",
       "      <td>0.259136</td>\n",
       "    </tr>\n",
       "    <tr>\n",
       "      <th>(146.4, 187.8]</th>\n",
       "      <td>0.554257</td>\n",
       "    </tr>\n",
       "    <tr>\n",
       "      <th>(187.8, 229.2]</th>\n",
       "      <td>0.113523</td>\n",
       "    </tr>\n",
       "    <tr>\n",
       "      <th>(229.2, 270.6]</th>\n",
       "      <td>0.072528</td>\n",
       "    </tr>\n",
       "    <tr>\n",
       "      <th>(270.6, 312.0]</th>\n",
       "      <td>0.000556</td>\n",
       "    </tr>\n",
       "  </tbody>\n",
       "</table>\n",
       "</div>"
      ],
      "text/plain": [
       "                         y\n",
       "binweight                 \n",
       "(104.793, 146.4]  0.259136\n",
       "(146.4, 187.8]    0.554257\n",
       "(187.8, 229.2]    0.113523\n",
       "(229.2, 270.6]    0.072528\n",
       "(270.6, 312.0]    0.000556"
      ]
     },
     "execution_count": 32,
     "metadata": {},
     "output_type": "execute_result"
    }
   ],
   "source": [
    "bindf.groupby(['binweight'])[['y']].count()/5391"
   ]
  },
  {
   "cell_type": "code",
   "execution_count": 33,
   "metadata": {},
   "outputs": [
    {
     "data": {
      "text/html": [
       "<div>\n",
       "<style scoped>\n",
       "    .dataframe tbody tr th:only-of-type {\n",
       "        vertical-align: middle;\n",
       "    }\n",
       "\n",
       "    .dataframe tbody tr th {\n",
       "        vertical-align: top;\n",
       "    }\n",
       "\n",
       "    .dataframe thead th {\n",
       "        text-align: right;\n",
       "    }\n",
       "</style>\n",
       "<table border=\"1\" class=\"dataframe\">\n",
       "  <thead>\n",
       "    <tr style=\"text-align: right;\">\n",
       "      <th></th>\n",
       "      <th>y</th>\n",
       "    </tr>\n",
       "    <tr>\n",
       "      <th>binwins</th>\n",
       "      <th></th>\n",
       "    </tr>\n",
       "  </thead>\n",
       "  <tbody>\n",
       "    <tr>\n",
       "      <th>(1.914, 19.2]</th>\n",
       "      <td>0.623261</td>\n",
       "    </tr>\n",
       "    <tr>\n",
       "      <th>(19.2, 36.4]</th>\n",
       "      <td>0.347802</td>\n",
       "    </tr>\n",
       "    <tr>\n",
       "      <th>(36.4, 53.6]</th>\n",
       "      <td>0.027082</td>\n",
       "    </tr>\n",
       "    <tr>\n",
       "      <th>(53.6, 70.8]</th>\n",
       "      <td>0.001113</td>\n",
       "    </tr>\n",
       "    <tr>\n",
       "      <th>(70.8, 88.0]</th>\n",
       "      <td>0.000742</td>\n",
       "    </tr>\n",
       "  </tbody>\n",
       "</table>\n",
       "</div>"
      ],
      "text/plain": [
       "                      y\n",
       "binwins                \n",
       "(1.914, 19.2]  0.623261\n",
       "(19.2, 36.4]   0.347802\n",
       "(36.4, 53.6]   0.027082\n",
       "(53.6, 70.8]   0.001113\n",
       "(70.8, 88.0]   0.000742"
      ]
     },
     "execution_count": 33,
     "metadata": {},
     "output_type": "execute_result"
    }
   ],
   "source": [
    "bindf.groupby(['binwins'])[['y']].count()/5391"
   ]
  },
  {
   "cell_type": "code",
   "execution_count": 34,
   "metadata": {},
   "outputs": [
    {
     "data": {
      "text/html": [
       "<div>\n",
       "<style scoped>\n",
       "    .dataframe tbody tr th:only-of-type {\n",
       "        vertical-align: middle;\n",
       "    }\n",
       "\n",
       "    .dataframe tbody tr th {\n",
       "        vertical-align: top;\n",
       "    }\n",
       "\n",
       "    .dataframe thead th {\n",
       "        text-align: right;\n",
       "    }\n",
       "</style>\n",
       "<table border=\"1\" class=\"dataframe\">\n",
       "  <thead>\n",
       "    <tr style=\"text-align: right;\">\n",
       "      <th></th>\n",
       "      <th>y</th>\n",
       "    </tr>\n",
       "    <tr>\n",
       "      <th>binreach</th>\n",
       "      <th></th>\n",
       "    </tr>\n",
       "  </thead>\n",
       "  <tbody>\n",
       "    <tr>\n",
       "      <th>(59.976, 64.8]</th>\n",
       "      <td>0.023743</td>\n",
       "    </tr>\n",
       "    <tr>\n",
       "      <th>(64.8, 69.6]</th>\n",
       "      <td>0.171211</td>\n",
       "    </tr>\n",
       "    <tr>\n",
       "      <th>(69.6, 74.4]</th>\n",
       "      <td>0.509182</td>\n",
       "    </tr>\n",
       "    <tr>\n",
       "      <th>(74.4, 79.2]</th>\n",
       "      <td>0.265813</td>\n",
       "    </tr>\n",
       "    <tr>\n",
       "      <th>(79.2, 84.0]</th>\n",
       "      <td>0.030050</td>\n",
       "    </tr>\n",
       "  </tbody>\n",
       "</table>\n",
       "</div>"
      ],
      "text/plain": [
       "                       y\n",
       "binreach                \n",
       "(59.976, 64.8]  0.023743\n",
       "(64.8, 69.6]    0.171211\n",
       "(69.6, 74.4]    0.509182\n",
       "(74.4, 79.2]    0.265813\n",
       "(79.2, 84.0]    0.030050"
      ]
     },
     "execution_count": 34,
     "metadata": {},
     "output_type": "execute_result"
    }
   ],
   "source": [
    "bindf.groupby(['binreach'])[['y']].count()/5391"
   ]
  },
  {
   "cell_type": "code",
   "execution_count": 35,
   "metadata": {},
   "outputs": [
    {
     "data": {
      "text/html": [
       "<div>\n",
       "<style scoped>\n",
       "    .dataframe tbody tr th:only-of-type {\n",
       "        vertical-align: middle;\n",
       "    }\n",
       "\n",
       "    .dataframe tbody tr th {\n",
       "        vertical-align: top;\n",
       "    }\n",
       "\n",
       "    .dataframe thead th {\n",
       "        text-align: right;\n",
       "    }\n",
       "</style>\n",
       "<table border=\"1\" class=\"dataframe\">\n",
       "  <thead>\n",
       "    <tr style=\"text-align: right;\">\n",
       "      <th></th>\n",
       "      <th>y</th>\n",
       "    </tr>\n",
       "    <tr>\n",
       "      <th>binstance</th>\n",
       "      <th></th>\n",
       "    </tr>\n",
       "  </thead>\n",
       "  <tbody>\n",
       "    <tr>\n",
       "      <th>0</th>\n",
       "      <td>719</td>\n",
       "    </tr>\n",
       "    <tr>\n",
       "      <th>1</th>\n",
       "      <td>2069</td>\n",
       "    </tr>\n",
       "  </tbody>\n",
       "</table>\n",
       "</div>"
      ],
      "text/plain": [
       "              y\n",
       "binstance      \n",
       "0           719\n",
       "1          2069"
      ]
     },
     "execution_count": 35,
     "metadata": {},
     "output_type": "execute_result"
    }
   ],
   "source": [
    "bindf.groupby(['binstance'])[['y']].sum()"
   ]
  },
  {
   "cell_type": "code",
   "execution_count": 36,
   "metadata": {},
   "outputs": [
    {
     "data": {
      "text/html": [
       "<div>\n",
       "<style scoped>\n",
       "    .dataframe tbody tr th:only-of-type {\n",
       "        vertical-align: middle;\n",
       "    }\n",
       "\n",
       "    .dataframe tbody tr th {\n",
       "        vertical-align: top;\n",
       "    }\n",
       "\n",
       "    .dataframe thead th {\n",
       "        text-align: right;\n",
       "    }\n",
       "</style>\n",
       "<table border=\"1\" class=\"dataframe\">\n",
       "  <thead>\n",
       "    <tr style=\"text-align: right;\">\n",
       "      <th></th>\n",
       "      <th>binstance</th>\n",
       "    </tr>\n",
       "    <tr>\n",
       "      <th>y</th>\n",
       "      <th></th>\n",
       "    </tr>\n",
       "  </thead>\n",
       "  <tbody>\n",
       "    <tr>\n",
       "      <th>0</th>\n",
       "      <td>2603</td>\n",
       "    </tr>\n",
       "    <tr>\n",
       "      <th>1</th>\n",
       "      <td>2788</td>\n",
       "    </tr>\n",
       "  </tbody>\n",
       "</table>\n",
       "</div>"
      ],
      "text/plain": [
       "   binstance\n",
       "y           \n",
       "0       2603\n",
       "1       2788"
      ]
     },
     "execution_count": 36,
     "metadata": {},
     "output_type": "execute_result"
    }
   ],
   "source": [
    "bindf.groupby(['y'])[['binstance']].count()"
   ]
  },
  {
   "cell_type": "code",
   "execution_count": null,
   "metadata": {},
   "outputs": [],
   "source": []
  }
 ],
 "metadata": {
  "kernelspec": {
   "display_name": "Python 3",
   "language": "python",
   "name": "python3"
  },
  "language_info": {
   "codemirror_mode": {
    "name": "ipython",
    "version": 3
   },
   "file_extension": ".py",
   "mimetype": "text/x-python",
   "name": "python",
   "nbconvert_exporter": "python",
   "pygments_lexer": "ipython3",
   "version": "3.6.5"
  }
 },
 "nbformat": 4,
 "nbformat_minor": 2
}
